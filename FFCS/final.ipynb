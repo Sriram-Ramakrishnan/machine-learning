{
 "cells": [
  {
   "cell_type": "code",
   "execution_count": 4,
   "metadata": {},
   "outputs": [],
   "source": [
    "import numpy as np\n",
    "import matplotlib.pyplot as plt\n",
    "import pandas as pd"
   ]
  },
  {
   "cell_type": "code",
   "execution_count": 5,
   "metadata": {},
   "outputs": [],
   "source": [
    "def AddTheoryLab(slot):\n",
    "    #0 for Theory, 1 for LAB\n",
    "    slot = slot[0]\n",
    "    if slot[0] == \"L\":\n",
    "        return \"LO\"\n",
    "    return \"TH\"\n",
    "\n",
    "def subjectsConvertor(subject_name, df: pd.DataFrame):\n",
    "    df1 = df[df['Course Type'] == 'TH']\n",
    "    df2 = df[df['Course Type'] == 'LO']\n",
    "\n",
    "    df1 = df1.drop('Course Type', axis=1)\n",
    "    df2 = df2.drop('Course Type', axis=1)\n",
    "\n",
    "    \"\"\"## Separate morning and afternoon slots in Theory\"\"\"\n",
    "\n",
    "    mask = df1['Slot Detail'].str.endswith('1')\n",
    "    mt = df1[mask]\n",
    "    at = df1[~mask]\n",
    "\n",
    "    \"\"\"## Separate morning and afternoon slots in Lab\"\"\"\n",
    "\n",
    "    df2['Slot Detail'] = df2['Slot Detail'].str.replace('L', '')\n",
    "    df2[['Slot Detail','Slot 2']] = df2['Slot Detail'].str.split('+',expand = True)\n",
    "    df2 = df2.drop('Slot 2', axis = 1)\n",
    "    df2['Slot Detail'] = df2['Slot Detail'].apply(int)\n",
    "\n",
    "    mask_lo = df2['Slot Detail'] < 30\n",
    "    ml = df2[mask_lo]\n",
    "    al = df2[~mask_lo]\n",
    "\n",
    "    morning_lab = ml.merge(at, on='Faculty')\n",
    "    evening_lab = al.merge(mt, on='Faculty')\n",
    "\n",
    "    morning_lab = morning_lab.sort_values(by='Slot Detail_x')\n",
    "    evening_lab = evening_lab.sort_values(by='Slot Detail_x')\n",
    "\n",
    "    df_final = pd.concat([morning_lab,evening_lab])\n",
    "    df_final.to_csv(subject_name+'.csv')"
   ]
  },
  {
   "cell_type": "markdown",
   "metadata": {},
   "source": [
    "# COde"
   ]
  },
  {
   "cell_type": "code",
   "execution_count": 6,
   "metadata": {},
   "outputs": [],
   "source": [
    "df = pd.read_csv('ffcs_mod.csv')\n",
    "\n",
    "l = ['SOFTWARE ENGINEERING',\n",
    " 'CRYPTOGRAPHY','MICROPROCESSORS',\n",
    " 'INFORMATION SECURITY MANAGEMENT','PSYCHOLOGY']\n",
    "\n",
    "for name in l:\n",
    "    subject = df[df['COURSE TITLE'] == name].iloc[:,3:8]\n",
    "    subjectsConvertor(name,subject)\n",
    "\n"
   ]
  },
  {
   "cell_type": "code",
   "execution_count": null,
   "metadata": {},
   "outputs": [],
   "source": []
  }
 ],
 "metadata": {
  "kernelspec": {
   "display_name": "Python 3",
   "language": "python",
   "name": "python3"
  },
  "language_info": {
   "codemirror_mode": {
    "name": "ipython",
    "version": 3
   },
   "file_extension": ".py",
   "mimetype": "text/x-python",
   "name": "python",
   "nbconvert_exporter": "python",
   "pygments_lexer": "ipython3",
   "version": "3.9.7"
  }
 },
 "nbformat": 4,
 "nbformat_minor": 2
}
