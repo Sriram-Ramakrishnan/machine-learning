{
 "cells": [
  {
   "cell_type": "code",
   "execution_count": 106,
   "metadata": {},
   "outputs": [],
   "source": [
    "import numpy as np\n",
    "import matplotlib.pyplot as plt\n",
    "import pandas as pd"
   ]
  },
  {
   "cell_type": "code",
   "execution_count": null,
   "metadata": {},
   "outputs": [],
   "source": []
  },
  {
   "cell_type": "code",
   "execution_count": 107,
   "metadata": {},
   "outputs": [],
   "source": [
    "df = pd.read_csv('micro_lab.csv')\n",
    "df1 = df[df['Course Type'] == 'TH']\n",
    "df2 = df[df['Course Type'] == 'LO']"
   ]
  },
  {
   "cell_type": "code",
   "execution_count": 108,
   "metadata": {},
   "outputs": [
    {
     "name": "stdout",
     "output_type": "stream",
     "text": [
      "   Slot Detail   Venue             Faculty Course Type\n",
      "0           C2  SMV111        NUPUR MANASI          TH\n",
      "1           F1  SJT504      GAURAV SUSHANT          TH\n",
      "2           F2  SJT308        SHILPI GUPTA          TH\n",
      "3           G2   TT413        SHILPI GUPTA          TH\n",
      "4           F1  SJT423        NUPUR MANASI          TH\n",
      "5           F2  SJT301  BAISHALI CHOUDHURI          TH\n",
      "6           G1  PRP411      GAURAV SUSHANT          TH\n",
      "7           G1  PRPG06  BAISHALI CHOUDHURI          TH\n",
      "8           G1  PRP414        NUPUR MANASI          TH\n",
      "9           B2  PRP126      GAURAV SUSHANT          TH\n",
      "10          E2   TT204      GAURAV SUSHANT          TH\n",
      "11          G2  SMV109        NUPUR MANASI          TH\n",
      "12          D1  SJT109        SHILPI GUPTA          TH\n",
      "13          E1  SJT407        SHILPI GUPTA          TH\n",
      "14          F2  SMV102        NUPUR MANASI          TH\n",
      "15          E1  PRP104  BAISHALI CHOUDHURI          TH\n",
      "16          G2  PRP509  BAISHALI CHOUDHURI          TH\n",
      "17          F2  SJT303   SABYASACHI MISHRA          TH\n",
      "18          C2   MB229   SABYASACHI MISHRA          TH\n",
      "19          A1   MB226   SABYASACHI MISHRA          TH\n",
      "20          G2  SJT607   SABYASACHI MISHRA          TH\n",
      "21          G1   TT619   SABYASACHI MISHRA          TH\n"
     ]
    }
   ],
   "source": [
    "print(df1)"
   ]
  },
  {
   "cell_type": "code",
   "execution_count": 109,
   "metadata": {},
   "outputs": [
    {
     "name": "stdout",
     "output_type": "stream",
     "text": [
      "Empty DataFrame\n",
      "Columns: [Slot Detail, Venue, Faculty, Course Type]\n",
      "Index: []\n"
     ]
    }
   ],
   "source": [
    "print(df2)"
   ]
  },
  {
   "cell_type": "code",
   "execution_count": 110,
   "metadata": {},
   "outputs": [],
   "source": [
    "df1 = df1.drop('Course Type', axis=1)\n",
    "df2 = df2.drop('Course Type', axis=1)"
   ]
  },
  {
   "cell_type": "code",
   "execution_count": 111,
   "metadata": {},
   "outputs": [
    {
     "name": "stdout",
     "output_type": "stream",
     "text": [
      "   Slot Detail   Venue             Faculty\n",
      "0           C2  SMV111        NUPUR MANASI\n",
      "1           F1  SJT504      GAURAV SUSHANT\n",
      "2           F2  SJT308        SHILPI GUPTA\n",
      "3           G2   TT413        SHILPI GUPTA\n",
      "4           F1  SJT423        NUPUR MANASI\n",
      "5           F2  SJT301  BAISHALI CHOUDHURI\n",
      "6           G1  PRP411      GAURAV SUSHANT\n",
      "7           G1  PRPG06  BAISHALI CHOUDHURI\n",
      "8           G1  PRP414        NUPUR MANASI\n",
      "9           B2  PRP126      GAURAV SUSHANT\n",
      "10          E2   TT204      GAURAV SUSHANT\n",
      "11          G2  SMV109        NUPUR MANASI\n",
      "12          D1  SJT109        SHILPI GUPTA\n",
      "13          E1  SJT407        SHILPI GUPTA\n",
      "14          F2  SMV102        NUPUR MANASI\n",
      "15          E1  PRP104  BAISHALI CHOUDHURI\n",
      "16          G2  PRP509  BAISHALI CHOUDHURI\n",
      "17          F2  SJT303   SABYASACHI MISHRA\n",
      "18          C2   MB229   SABYASACHI MISHRA\n",
      "19          A1   MB226   SABYASACHI MISHRA\n",
      "20          G2  SJT607   SABYASACHI MISHRA\n",
      "21          G1   TT619   SABYASACHI MISHRA\n"
     ]
    }
   ],
   "source": [
    "print(df1)"
   ]
  },
  {
   "cell_type": "markdown",
   "metadata": {},
   "source": [
    "## Separate morning and afternoon slots in Theory"
   ]
  },
  {
   "cell_type": "code",
   "execution_count": 112,
   "metadata": {},
   "outputs": [],
   "source": [
    "mask = df1['Slot Detail'].str.endswith('1')\n",
    "mt = df1[mask]\n",
    "at = df1[~mask]"
   ]
  },
  {
   "cell_type": "code",
   "execution_count": 113,
   "metadata": {},
   "outputs": [
    {
     "name": "stdout",
     "output_type": "stream",
     "text": [
      "   Slot Detail   Venue             Faculty\n",
      "1           F1  SJT504      GAURAV SUSHANT\n",
      "4           F1  SJT423        NUPUR MANASI\n",
      "6           G1  PRP411      GAURAV SUSHANT\n",
      "7           G1  PRPG06  BAISHALI CHOUDHURI\n",
      "8           G1  PRP414        NUPUR MANASI\n",
      "12          D1  SJT109        SHILPI GUPTA\n",
      "13          E1  SJT407        SHILPI GUPTA\n",
      "15          E1  PRP104  BAISHALI CHOUDHURI\n",
      "19          A1   MB226   SABYASACHI MISHRA\n",
      "21          G1   TT619   SABYASACHI MISHRA\n"
     ]
    }
   ],
   "source": [
    "print(mt)"
   ]
  },
  {
   "cell_type": "code",
   "execution_count": 114,
   "metadata": {},
   "outputs": [
    {
     "name": "stdout",
     "output_type": "stream",
     "text": [
      "   Slot Detail   Venue             Faculty\n",
      "0           C2  SMV111        NUPUR MANASI\n",
      "2           F2  SJT308        SHILPI GUPTA\n",
      "3           G2   TT413        SHILPI GUPTA\n",
      "5           F2  SJT301  BAISHALI CHOUDHURI\n",
      "9           B2  PRP126      GAURAV SUSHANT\n",
      "10          E2   TT204      GAURAV SUSHANT\n",
      "11          G2  SMV109        NUPUR MANASI\n",
      "14          F2  SMV102        NUPUR MANASI\n",
      "16          G2  PRP509  BAISHALI CHOUDHURI\n",
      "17          F2  SJT303   SABYASACHI MISHRA\n",
      "18          C2   MB229   SABYASACHI MISHRA\n",
      "20          G2  SJT607   SABYASACHI MISHRA\n"
     ]
    }
   ],
   "source": [
    "print(at)"
   ]
  },
  {
   "cell_type": "code",
   "execution_count": 115,
   "metadata": {},
   "outputs": [],
   "source": [
    "lang = pd.concat([mt,at])\n",
    "lang.to_csv('Spanish.csv')"
   ]
  },
  {
   "cell_type": "markdown",
   "metadata": {},
   "source": [
    "## Separate morning and afternoon slots in Lab"
   ]
  },
  {
   "cell_type": "code",
   "execution_count": 116,
   "metadata": {},
   "outputs": [
    {
     "ename": "ValueError",
     "evalue": "Columns must be same length as key",
     "output_type": "error",
     "traceback": [
      "\u001b[1;31m---------------------------------------------------------------------------\u001b[0m",
      "\u001b[1;31mValueError\u001b[0m                                Traceback (most recent call last)",
      "\u001b[1;32md:\\Users\\Sri\\Desktop\\AIML\\Learning\\Courses\\database.ipynb Cell 14\u001b[0m line \u001b[0;36m2\n\u001b[0;32m      <a href='vscode-notebook-cell:/d%3A/Users/Sri/Desktop/AIML/Learning/Courses/database.ipynb#X10sZmlsZQ%3D%3D?line=0'>1</a>\u001b[0m df2[\u001b[39m'\u001b[39m\u001b[39mSlot Detail\u001b[39m\u001b[39m'\u001b[39m] \u001b[39m=\u001b[39m df2[\u001b[39m'\u001b[39m\u001b[39mSlot Detail\u001b[39m\u001b[39m'\u001b[39m]\u001b[39m.\u001b[39mstr\u001b[39m.\u001b[39mreplace(\u001b[39m'\u001b[39m\u001b[39mL\u001b[39m\u001b[39m'\u001b[39m, \u001b[39m'\u001b[39m\u001b[39m'\u001b[39m)\n\u001b[1;32m----> <a href='vscode-notebook-cell:/d%3A/Users/Sri/Desktop/AIML/Learning/Courses/database.ipynb#X10sZmlsZQ%3D%3D?line=1'>2</a>\u001b[0m df2[[\u001b[39m'\u001b[39;49m\u001b[39mSlot Detail\u001b[39;49m\u001b[39m'\u001b[39;49m,\u001b[39m'\u001b[39;49m\u001b[39mSlot 2\u001b[39;49m\u001b[39m'\u001b[39;49m]] \u001b[39m=\u001b[39m df2[\u001b[39m'\u001b[39m\u001b[39mSlot Detail\u001b[39m\u001b[39m'\u001b[39m]\u001b[39m.\u001b[39mstr\u001b[39m.\u001b[39msplit(\u001b[39m'\u001b[39m\u001b[39m+\u001b[39m\u001b[39m'\u001b[39m,expand \u001b[39m=\u001b[39m \u001b[39mTrue\u001b[39;00m)\n\u001b[0;32m      <a href='vscode-notebook-cell:/d%3A/Users/Sri/Desktop/AIML/Learning/Courses/database.ipynb#X10sZmlsZQ%3D%3D?line=2'>3</a>\u001b[0m df2 \u001b[39m=\u001b[39m df2\u001b[39m.\u001b[39mdrop(\u001b[39m'\u001b[39m\u001b[39mSlot 2\u001b[39m\u001b[39m'\u001b[39m, axis \u001b[39m=\u001b[39m \u001b[39m1\u001b[39m)\n\u001b[0;32m      <a href='vscode-notebook-cell:/d%3A/Users/Sri/Desktop/AIML/Learning/Courses/database.ipynb#X10sZmlsZQ%3D%3D?line=3'>4</a>\u001b[0m df2[\u001b[39m'\u001b[39m\u001b[39mSlot Detail\u001b[39m\u001b[39m'\u001b[39m] \u001b[39m=\u001b[39m df2[\u001b[39m'\u001b[39m\u001b[39mSlot Detail\u001b[39m\u001b[39m'\u001b[39m]\u001b[39m.\u001b[39mapply(\u001b[39mint\u001b[39m)\n",
      "File \u001b[1;32md:\\Users\\Sri\\AppData\\Local\\Programs\\Python\\Python39\\lib\\site-packages\\pandas\\core\\frame.py:3947\u001b[0m, in \u001b[0;36mDataFrame.__setitem__\u001b[1;34m(self, key, value)\u001b[0m\n\u001b[0;32m   3945\u001b[0m     \u001b[39mself\u001b[39m\u001b[39m.\u001b[39m_setitem_frame(key, value)\n\u001b[0;32m   3946\u001b[0m \u001b[39melif\u001b[39;00m \u001b[39misinstance\u001b[39m(key, (Series, np\u001b[39m.\u001b[39mndarray, \u001b[39mlist\u001b[39m, Index)):\n\u001b[1;32m-> 3947\u001b[0m     \u001b[39mself\u001b[39;49m\u001b[39m.\u001b[39;49m_setitem_array(key, value)\n\u001b[0;32m   3948\u001b[0m \u001b[39melif\u001b[39;00m \u001b[39misinstance\u001b[39m(value, DataFrame):\n\u001b[0;32m   3949\u001b[0m     \u001b[39mself\u001b[39m\u001b[39m.\u001b[39m_set_item_frame_value(key, value)\n",
      "File \u001b[1;32md:\\Users\\Sri\\AppData\\Local\\Programs\\Python\\Python39\\lib\\site-packages\\pandas\\core\\frame.py:3989\u001b[0m, in \u001b[0;36mDataFrame._setitem_array\u001b[1;34m(self, key, value)\u001b[0m\n\u001b[0;32m   3984\u001b[0m \u001b[39melse\u001b[39;00m:\n\u001b[0;32m   3985\u001b[0m     \u001b[39m# Note: unlike self.iloc[:, indexer] = value, this will\u001b[39;00m\n\u001b[0;32m   3986\u001b[0m     \u001b[39m#  never try to overwrite values inplace\u001b[39;00m\n\u001b[0;32m   3988\u001b[0m     \u001b[39mif\u001b[39;00m \u001b[39misinstance\u001b[39m(value, DataFrame):\n\u001b[1;32m-> 3989\u001b[0m         check_key_length(\u001b[39mself\u001b[39;49m\u001b[39m.\u001b[39;49mcolumns, key, value)\n\u001b[0;32m   3990\u001b[0m         \u001b[39mfor\u001b[39;00m k1, k2 \u001b[39min\u001b[39;00m \u001b[39mzip\u001b[39m(key, value\u001b[39m.\u001b[39mcolumns):\n\u001b[0;32m   3991\u001b[0m             \u001b[39mself\u001b[39m[k1] \u001b[39m=\u001b[39m value[k2]\n",
      "File \u001b[1;32md:\\Users\\Sri\\AppData\\Local\\Programs\\Python\\Python39\\lib\\site-packages\\pandas\\core\\indexers\\utils.py:392\u001b[0m, in \u001b[0;36mcheck_key_length\u001b[1;34m(columns, key, value)\u001b[0m\n\u001b[0;32m    390\u001b[0m \u001b[39mif\u001b[39;00m columns\u001b[39m.\u001b[39mis_unique:\n\u001b[0;32m    391\u001b[0m     \u001b[39mif\u001b[39;00m \u001b[39mlen\u001b[39m(value\u001b[39m.\u001b[39mcolumns) \u001b[39m!=\u001b[39m \u001b[39mlen\u001b[39m(key):\n\u001b[1;32m--> 392\u001b[0m         \u001b[39mraise\u001b[39;00m \u001b[39mValueError\u001b[39;00m(\u001b[39m\"\u001b[39m\u001b[39mColumns must be same length as key\u001b[39m\u001b[39m\"\u001b[39m)\n\u001b[0;32m    393\u001b[0m \u001b[39melse\u001b[39;00m:\n\u001b[0;32m    394\u001b[0m     \u001b[39m# Missing keys in columns are represented as -1\u001b[39;00m\n\u001b[0;32m    395\u001b[0m     \u001b[39mif\u001b[39;00m \u001b[39mlen\u001b[39m(columns\u001b[39m.\u001b[39mget_indexer_non_unique(key)[\u001b[39m0\u001b[39m]) \u001b[39m!=\u001b[39m \u001b[39mlen\u001b[39m(value\u001b[39m.\u001b[39mcolumns):\n",
      "\u001b[1;31mValueError\u001b[0m: Columns must be same length as key"
     ]
    }
   ],
   "source": [
    "df2['Slot Detail'] = df2['Slot Detail'].str.replace('L', '')\n",
    "df2[['Slot Detail','Slot 2']] = df2['Slot Detail'].str.split('+',expand = True)\n",
    "df2 = df2.drop('Slot 2', axis = 1)\n",
    "df2['Slot Detail'] = df2['Slot Detail'].apply(int)"
   ]
  },
  {
   "cell_type": "code",
   "execution_count": null,
   "metadata": {},
   "outputs": [],
   "source": [
    "mask_lo = df2['Slot Detail'] < 30\n",
    "ml = df2[~mask_lo]\n",
    "al = df2[mask_lo]"
   ]
  },
  {
   "cell_type": "code",
   "execution_count": null,
   "metadata": {},
   "outputs": [
    {
     "name": "stdout",
     "output_type": "stream",
     "text": [
      "   Slot Detail  Venue         Faculty\n",
      "1           57  TT318  BHUVANESWARI M\n",
      "3           39  TT318   POONAM SHARMA\n"
     ]
    }
   ],
   "source": [
    "print(ml)"
   ]
  },
  {
   "cell_type": "code",
   "execution_count": null,
   "metadata": {},
   "outputs": [],
   "source": [
    "morning_lab = ml.merge(at, on='Faculty')\n",
    "evening_lab = al.merge(mt, on='Faculty')"
   ]
  },
  {
   "cell_type": "code",
   "execution_count": null,
   "metadata": {},
   "outputs": [],
   "source": [
    "morning_lab = morning_lab.sort_values(by='Slot Detail_x')\n",
    "evening_lab = evening_lab.sort_values(by='Slot Detail_x')"
   ]
  },
  {
   "cell_type": "code",
   "execution_count": null,
   "metadata": {},
   "outputs": [],
   "source": [
    "df_final = pd.concat([morning_lab,evening_lab])"
   ]
  },
  {
   "cell_type": "code",
   "execution_count": null,
   "metadata": {},
   "outputs": [],
   "source": [
    "df_final.to_csv('psychology.csv')"
   ]
  }
 ],
 "metadata": {
  "kernelspec": {
   "display_name": "Python 3",
   "language": "python",
   "name": "python3"
  },
  "language_info": {
   "codemirror_mode": {
    "name": "ipython",
    "version": 3
   },
   "file_extension": ".py",
   "mimetype": "text/x-python",
   "name": "python",
   "nbconvert_exporter": "python",
   "pygments_lexer": "ipython3",
   "version": "3.9.7"
  }
 },
 "nbformat": 4,
 "nbformat_minor": 2
}
